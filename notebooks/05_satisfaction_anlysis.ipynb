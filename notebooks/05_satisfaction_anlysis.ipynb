{
 "cells": [
  {
   "cell_type": "code",
   "execution_count": 1,
   "metadata": {},
   "outputs": [],
   "source": [
    "import os, sys\n",
    "import pandas as pd\n",
    "import seaborn as sns\n",
    "import matplotlib.pyplot as plt\n",
    "from pandasql import sqldf\n",
    "from sklearn.preprocessing import MinMaxScaler\n",
    "from sklearn.linear_model import LinearRegression\n",
    "from sklearn.cluster import KMeans\n",
    "from sklearn.model_selection import train_test_split\n",
    "from sklearn.metrics import euclidean_distances\n",
    "from mpl_toolkits.mplot3d import Axes3D\n",
    "\n",
    "rpath = os.path.abspath('..')\n",
    "if rpath not in sys.path:\n",
    "    sys.path.insert(0, rpath)\n",
    "\n",
    "import scripts.read_data_from_db as rd\n",
    "import scripts.data_cleaning as dc\n",
    "import scripts.write_to_db as wd\n",
    "import scripts.utils as util"
   ]
  },
  {
   "cell_type": "code",
   "execution_count": 2,
   "metadata": {},
   "outputs": [
    {
     "name": "stderr",
     "output_type": "stream",
     "text": [
      "INFO:scripts.read_data_from_db:Data fetched succesfully\n",
      "INFO:scripts.read_data_from_db:Data fetched succesfully\n"
     ]
    }
   ],
   "source": [
    "experience_df = rd.read_data(table_name='user_experience')\n",
    "engagement_df = rd.read_data(table_name='user_engagement')"
   ]
  },
  {
   "cell_type": "code",
   "execution_count": 3,
   "metadata": {},
   "outputs": [],
   "source": [
    "pysqldf = lambda q: sqldf(q, globals())"
   ]
  },
  {
   "cell_type": "code",
   "execution_count": 4,
   "metadata": {},
   "outputs": [
    {
     "data": {
      "text/html": [
       "<div>\n",
       "<style scoped>\n",
       "    .dataframe tbody tr th:only-of-type {\n",
       "        vertical-align: middle;\n",
       "    }\n",
       "\n",
       "    .dataframe tbody tr th {\n",
       "        vertical-align: top;\n",
       "    }\n",
       "\n",
       "    .dataframe thead th {\n",
       "        text-align: right;\n",
       "    }\n",
       "</style>\n",
       "<table border=\"1\" class=\"dataframe\">\n",
       "  <thead>\n",
       "    <tr style=\"text-align: right;\">\n",
       "      <th></th>\n",
       "      <th>CustomerID</th>\n",
       "      <th>AvgTCP</th>\n",
       "      <th>AvgRTT</th>\n",
       "      <th>AvgThroughput</th>\n",
       "    </tr>\n",
       "  </thead>\n",
       "  <tbody>\n",
       "    <tr>\n",
       "      <th>0</th>\n",
       "      <td>3.360100e+10</td>\n",
       "      <td>1.000000</td>\n",
       "      <td>0.310549</td>\n",
       "      <td>0.000489</td>\n",
       "    </tr>\n",
       "    <tr>\n",
       "      <th>1</th>\n",
       "      <td>3.360100e+10</td>\n",
       "      <td>1.000000</td>\n",
       "      <td>0.009225</td>\n",
       "      <td>0.000864</td>\n",
       "    </tr>\n",
       "    <tr>\n",
       "      <th>2</th>\n",
       "      <td>3.360100e+10</td>\n",
       "      <td>1.000000</td>\n",
       "      <td>0.899082</td>\n",
       "      <td>0.000832</td>\n",
       "    </tr>\n",
       "    <tr>\n",
       "      <th>3</th>\n",
       "      <td>3.360101e+10</td>\n",
       "      <td>1.000000</td>\n",
       "      <td>0.498165</td>\n",
       "      <td>0.003294</td>\n",
       "    </tr>\n",
       "    <tr>\n",
       "      <th>4</th>\n",
       "      <td>3.360101e+10</td>\n",
       "      <td>0.713102</td>\n",
       "      <td>0.353618</td>\n",
       "      <td>0.462709</td>\n",
       "    </tr>\n",
       "  </tbody>\n",
       "</table>\n",
       "</div>"
      ],
      "text/plain": [
       "     CustomerID    AvgTCP    AvgRTT  AvgThroughput\n",
       "0  3.360100e+10  1.000000  0.310549       0.000489\n",
       "1  3.360100e+10  1.000000  0.009225       0.000864\n",
       "2  3.360100e+10  1.000000  0.899082       0.000832\n",
       "3  3.360101e+10  1.000000  0.498165       0.003294\n",
       "4  3.360101e+10  0.713102  0.353618       0.462709"
      ]
     },
     "execution_count": 4,
     "metadata": {},
     "output_type": "execute_result"
    }
   ],
   "source": [
    "experience_df.head()"
   ]
  },
  {
   "cell_type": "code",
   "execution_count": 5,
   "metadata": {},
   "outputs": [
    {
     "data": {
      "text/html": [
       "<div>\n",
       "<style scoped>\n",
       "    .dataframe tbody tr th:only-of-type {\n",
       "        vertical-align: middle;\n",
       "    }\n",
       "\n",
       "    .dataframe tbody tr th {\n",
       "        vertical-align: top;\n",
       "    }\n",
       "\n",
       "    .dataframe thead th {\n",
       "        text-align: right;\n",
       "    }\n",
       "</style>\n",
       "<table border=\"1\" class=\"dataframe\">\n",
       "  <thead>\n",
       "    <tr style=\"text-align: right;\">\n",
       "      <th></th>\n",
       "      <th>MSISDN/Number</th>\n",
       "      <th>SessionDuration</th>\n",
       "      <th>SessionFrequency</th>\n",
       "      <th>TotalTraffic</th>\n",
       "    </tr>\n",
       "  </thead>\n",
       "  <tbody>\n",
       "    <tr>\n",
       "      <th>0</th>\n",
       "      <td>3.360100e+10</td>\n",
       "      <td>0.275973</td>\n",
       "      <td>0.0</td>\n",
       "      <td>0.508721</td>\n",
       "    </tr>\n",
       "    <tr>\n",
       "      <th>1</th>\n",
       "      <td>3.360100e+10</td>\n",
       "      <td>0.460555</td>\n",
       "      <td>0.0</td>\n",
       "      <td>0.017328</td>\n",
       "    </tr>\n",
       "    <tr>\n",
       "      <th>2</th>\n",
       "      <td>3.360100e+10</td>\n",
       "      <td>0.328189</td>\n",
       "      <td>0.0</td>\n",
       "      <td>0.316254</td>\n",
       "    </tr>\n",
       "    <tr>\n",
       "      <th>3</th>\n",
       "      <td>3.360101e+10</td>\n",
       "      <td>0.084717</td>\n",
       "      <td>0.0</td>\n",
       "      <td>0.198043</td>\n",
       "    </tr>\n",
       "    <tr>\n",
       "      <th>4</th>\n",
       "      <td>3.360101e+10</td>\n",
       "      <td>0.048167</td>\n",
       "      <td>0.5</td>\n",
       "      <td>0.902690</td>\n",
       "    </tr>\n",
       "  </tbody>\n",
       "</table>\n",
       "</div>"
      ],
      "text/plain": [
       "   MSISDN/Number  SessionDuration  SessionFrequency  TotalTraffic\n",
       "0   3.360100e+10         0.275973               0.0      0.508721\n",
       "1   3.360100e+10         0.460555               0.0      0.017328\n",
       "2   3.360100e+10         0.328189               0.0      0.316254\n",
       "3   3.360101e+10         0.084717               0.0      0.198043\n",
       "4   3.360101e+10         0.048167               0.5      0.902690"
      ]
     },
     "execution_count": 5,
     "metadata": {},
     "output_type": "execute_result"
    }
   ],
   "source": [
    "engagement_df.head()"
   ]
  },
  {
   "cell_type": "code",
   "execution_count": 6,
   "metadata": {},
   "outputs": [
    {
     "data": {
      "text/html": [
       "<div>\n",
       "<style scoped>\n",
       "    .dataframe tbody tr th:only-of-type {\n",
       "        vertical-align: middle;\n",
       "    }\n",
       "\n",
       "    .dataframe tbody tr th {\n",
       "        vertical-align: top;\n",
       "    }\n",
       "\n",
       "    .dataframe thead th {\n",
       "        text-align: right;\n",
       "    }\n",
       "</style>\n",
       "<table border=\"1\" class=\"dataframe\">\n",
       "  <thead>\n",
       "    <tr style=\"text-align: right;\">\n",
       "      <th></th>\n",
       "      <th>MSISDN/Number</th>\n",
       "      <th>SessionDuration</th>\n",
       "      <th>SessionFrequency</th>\n",
       "      <th>TotalTraffic</th>\n",
       "      <th>CustomerID</th>\n",
       "      <th>AvgTCP</th>\n",
       "      <th>AvgRTT</th>\n",
       "      <th>AvgThroughput</th>\n",
       "    </tr>\n",
       "  </thead>\n",
       "  <tbody>\n",
       "    <tr>\n",
       "      <th>0</th>\n",
       "      <td>3.360100e+10</td>\n",
       "      <td>0.275973</td>\n",
       "      <td>0.0</td>\n",
       "      <td>0.508721</td>\n",
       "      <td>3.360100e+10</td>\n",
       "      <td>1.000000</td>\n",
       "      <td>0.310549</td>\n",
       "      <td>0.000489</td>\n",
       "    </tr>\n",
       "    <tr>\n",
       "      <th>1</th>\n",
       "      <td>3.360100e+10</td>\n",
       "      <td>0.460555</td>\n",
       "      <td>0.0</td>\n",
       "      <td>0.017328</td>\n",
       "      <td>3.360100e+10</td>\n",
       "      <td>1.000000</td>\n",
       "      <td>0.009225</td>\n",
       "      <td>0.000864</td>\n",
       "    </tr>\n",
       "    <tr>\n",
       "      <th>2</th>\n",
       "      <td>3.360100e+10</td>\n",
       "      <td>0.328189</td>\n",
       "      <td>0.0</td>\n",
       "      <td>0.316254</td>\n",
       "      <td>3.360100e+10</td>\n",
       "      <td>1.000000</td>\n",
       "      <td>0.899082</td>\n",
       "      <td>0.000832</td>\n",
       "    </tr>\n",
       "    <tr>\n",
       "      <th>3</th>\n",
       "      <td>3.360101e+10</td>\n",
       "      <td>0.084717</td>\n",
       "      <td>0.0</td>\n",
       "      <td>0.198043</td>\n",
       "      <td>3.360101e+10</td>\n",
       "      <td>1.000000</td>\n",
       "      <td>0.498165</td>\n",
       "      <td>0.003294</td>\n",
       "    </tr>\n",
       "    <tr>\n",
       "      <th>4</th>\n",
       "      <td>3.360101e+10</td>\n",
       "      <td>0.048167</td>\n",
       "      <td>0.5</td>\n",
       "      <td>0.902690</td>\n",
       "      <td>3.360101e+10</td>\n",
       "      <td>0.713102</td>\n",
       "      <td>0.353618</td>\n",
       "      <td>0.462709</td>\n",
       "    </tr>\n",
       "  </tbody>\n",
       "</table>\n",
       "</div>"
      ],
      "text/plain": [
       "   MSISDN/Number  SessionDuration  SessionFrequency  TotalTraffic  \\\n",
       "0   3.360100e+10         0.275973               0.0      0.508721   \n",
       "1   3.360100e+10         0.460555               0.0      0.017328   \n",
       "2   3.360100e+10         0.328189               0.0      0.316254   \n",
       "3   3.360101e+10         0.084717               0.0      0.198043   \n",
       "4   3.360101e+10         0.048167               0.5      0.902690   \n",
       "\n",
       "     CustomerID    AvgTCP    AvgRTT  AvgThroughput  \n",
       "0  3.360100e+10  1.000000  0.310549       0.000489  \n",
       "1  3.360100e+10  1.000000  0.009225       0.000864  \n",
       "2  3.360100e+10  1.000000  0.899082       0.000832  \n",
       "3  3.360101e+10  1.000000  0.498165       0.003294  \n",
       "4  3.360101e+10  0.713102  0.353618       0.462709  "
      ]
     },
     "execution_count": 6,
     "metadata": {},
     "output_type": "execute_result"
    }
   ],
   "source": [
    "merged_df = engagement_df.merge(experience_df, left_on='MSISDN/Number', right_on=\"CustomerID\", how='inner')\n",
    "merged_df.head()"
   ]
  },
  {
   "cell_type": "code",
   "execution_count": 7,
   "metadata": {},
   "outputs": [],
   "source": [
    "experience_columns = [\"AvgTCP\",\"AvgRTT\",\"AvgThroughput\"]\n",
    "engagement_columns = [\"SessionDuration\",\"SessionFrequency\",\"TotalTraffic\"]"
   ]
  },
  {
   "cell_type": "markdown",
   "metadata": {},
   "source": [
    "### Assigning scores"
   ]
  },
  {
   "cell_type": "code",
   "execution_count": 8,
   "metadata": {},
   "outputs": [],
   "source": [
    "k = 3\n",
    "X_eng = merged_df[engagement_columns]\n",
    "X_exp = merged_df[experience_columns]"
   ]
  },
  {
   "cell_type": "markdown",
   "metadata": {},
   "source": [
    "##### Assign engagement score"
   ]
  },
  {
   "cell_type": "code",
   "execution_count": 9,
   "metadata": {},
   "outputs": [],
   "source": [
    "kmeans = KMeans(n_clusters=k, random_state=42, n_init=10)\n",
    "cluster_labels = kmeans.fit_predict(X_eng)\n",
    "merged_df['cluster'] = cluster_labels"
   ]
  },
  {
   "cell_type": "markdown",
   "metadata": {},
   "source": [
    "##### Get less engaged cluster"
   ]
  },
  {
   "cell_type": "code",
   "execution_count": 10,
   "metadata": {},
   "outputs": [
    {
     "data": {
      "text/plain": [
       "1"
      ]
     },
     "execution_count": 10,
     "metadata": {},
     "output_type": "execute_result"
    }
   ],
   "source": [
    "query = ''' \n",
    "    SELECT \n",
    "        cluster,\n",
    "        AVG((\"SessionDuration\"+\"SessionFrequency\"+\"TotalTraffic\") / 3) AS AVG \n",
    "    FROM merged_df\n",
    "    GROUP BY cluster;\n",
    "'''\n",
    "\n",
    "grouped = pysqldf(query)\n",
    "less_engaged_cluster = grouped['AVG'].idxmin()\n",
    "less_engaged_cluster"
   ]
  },
  {
   "cell_type": "code",
   "execution_count": 11,
   "metadata": {},
   "outputs": [
    {
     "data": {
      "text/html": [
       "<div>\n",
       "<style scoped>\n",
       "    .dataframe tbody tr th:only-of-type {\n",
       "        vertical-align: middle;\n",
       "    }\n",
       "\n",
       "    .dataframe tbody tr th {\n",
       "        vertical-align: top;\n",
       "    }\n",
       "\n",
       "    .dataframe thead th {\n",
       "        text-align: right;\n",
       "    }\n",
       "</style>\n",
       "<table border=\"1\" class=\"dataframe\">\n",
       "  <thead>\n",
       "    <tr style=\"text-align: right;\">\n",
       "      <th></th>\n",
       "      <th>MSISDN/Number</th>\n",
       "      <th>SessionDuration</th>\n",
       "      <th>SessionFrequency</th>\n",
       "      <th>TotalTraffic</th>\n",
       "      <th>CustomerID</th>\n",
       "      <th>AvgTCP</th>\n",
       "      <th>AvgRTT</th>\n",
       "      <th>AvgThroughput</th>\n",
       "      <th>cluster</th>\n",
       "      <th>EngagementScore</th>\n",
       "    </tr>\n",
       "  </thead>\n",
       "  <tbody>\n",
       "    <tr>\n",
       "      <th>0</th>\n",
       "      <td>3.360100e+10</td>\n",
       "      <td>0.275973</td>\n",
       "      <td>0.0</td>\n",
       "      <td>0.508721</td>\n",
       "      <td>3.360100e+10</td>\n",
       "      <td>1.000000</td>\n",
       "      <td>0.310549</td>\n",
       "      <td>0.000489</td>\n",
       "      <td>1</td>\n",
       "      <td>0.608480</td>\n",
       "    </tr>\n",
       "    <tr>\n",
       "      <th>1</th>\n",
       "      <td>3.360100e+10</td>\n",
       "      <td>0.460555</td>\n",
       "      <td>0.0</td>\n",
       "      <td>0.017328</td>\n",
       "      <td>3.360100e+10</td>\n",
       "      <td>1.000000</td>\n",
       "      <td>0.009225</td>\n",
       "      <td>0.000864</td>\n",
       "      <td>2</td>\n",
       "      <td>0.802447</td>\n",
       "    </tr>\n",
       "    <tr>\n",
       "      <th>2</th>\n",
       "      <td>3.360100e+10</td>\n",
       "      <td>0.328189</td>\n",
       "      <td>0.0</td>\n",
       "      <td>0.316254</td>\n",
       "      <td>3.360100e+10</td>\n",
       "      <td>1.000000</td>\n",
       "      <td>0.899082</td>\n",
       "      <td>0.000832</td>\n",
       "      <td>2</td>\n",
       "      <td>0.645243</td>\n",
       "    </tr>\n",
       "    <tr>\n",
       "      <th>3</th>\n",
       "      <td>3.360101e+10</td>\n",
       "      <td>0.084717</td>\n",
       "      <td>0.0</td>\n",
       "      <td>0.198043</td>\n",
       "      <td>3.360101e+10</td>\n",
       "      <td>1.000000</td>\n",
       "      <td>0.498165</td>\n",
       "      <td>0.003294</td>\n",
       "      <td>1</td>\n",
       "      <td>0.781218</td>\n",
       "    </tr>\n",
       "    <tr>\n",
       "      <th>4</th>\n",
       "      <td>3.360101e+10</td>\n",
       "      <td>0.048167</td>\n",
       "      <td>0.5</td>\n",
       "      <td>0.902690</td>\n",
       "      <td>3.360101e+10</td>\n",
       "      <td>0.713102</td>\n",
       "      <td>0.353618</td>\n",
       "      <td>0.462709</td>\n",
       "      <td>0</td>\n",
       "      <td>0.527073</td>\n",
       "    </tr>\n",
       "  </tbody>\n",
       "</table>\n",
       "</div>"
      ],
      "text/plain": [
       "   MSISDN/Number  SessionDuration  SessionFrequency  TotalTraffic  \\\n",
       "0   3.360100e+10         0.275973               0.0      0.508721   \n",
       "1   3.360100e+10         0.460555               0.0      0.017328   \n",
       "2   3.360100e+10         0.328189               0.0      0.316254   \n",
       "3   3.360101e+10         0.084717               0.0      0.198043   \n",
       "4   3.360101e+10         0.048167               0.5      0.902690   \n",
       "\n",
       "     CustomerID    AvgTCP    AvgRTT  AvgThroughput  cluster  EngagementScore  \n",
       "0  3.360100e+10  1.000000  0.310549       0.000489        1         0.608480  \n",
       "1  3.360100e+10  1.000000  0.009225       0.000864        2         0.802447  \n",
       "2  3.360100e+10  1.000000  0.899082       0.000832        2         0.645243  \n",
       "3  3.360101e+10  1.000000  0.498165       0.003294        1         0.781218  \n",
       "4  3.360101e+10  0.713102  0.353618       0.462709        0         0.527073  "
      ]
     },
     "execution_count": 11,
     "metadata": {},
     "output_type": "execute_result"
    }
   ],
   "source": [
    "less_engaged_cluster = pd.Series(cluster_labels).value_counts().idxmin()\n",
    "less_engaged_cluster_center = kmeans.cluster_centers_[less_engaged_cluster]\n",
    "\n",
    "distances = euclidean_distances(X_eng, [less_engaged_cluster_center]).flatten()\n",
    "merged_df['EngagementScore'] =  distances\n",
    "merged_df.head()"
   ]
  },
  {
   "cell_type": "markdown",
   "metadata": {},
   "source": [
    "##### Get worst experience cluster"
   ]
  },
  {
   "cell_type": "code",
   "execution_count": 12,
   "metadata": {},
   "outputs": [
    {
     "data": {
      "text/plain": [
       "1"
      ]
     },
     "execution_count": 12,
     "metadata": {},
     "output_type": "execute_result"
    }
   ],
   "source": [
    "query = ''' \n",
    "    SELECT \n",
    "        cluster,\n",
    "        AVG((\"AvgTCP\" + \"AvgRTT\" + \"AvgThroughput\") / 3) AS AVG \n",
    "    FROM merged_df\n",
    "    GROUP BY cluster;\n",
    "'''\n",
    "\n",
    "grouped = pysqldf(query)\n",
    "worst_experience_cluster = grouped['AVG'].idxmin()\n",
    "worst_experience_cluster"
   ]
  },
  {
   "cell_type": "markdown",
   "metadata": {},
   "source": [
    "##### Assign Experience score"
   ]
  },
  {
   "cell_type": "code",
   "execution_count": 13,
   "metadata": {},
   "outputs": [
    {
     "data": {
      "text/html": [
       "<div>\n",
       "<style scoped>\n",
       "    .dataframe tbody tr th:only-of-type {\n",
       "        vertical-align: middle;\n",
       "    }\n",
       "\n",
       "    .dataframe tbody tr th {\n",
       "        vertical-align: top;\n",
       "    }\n",
       "\n",
       "    .dataframe thead th {\n",
       "        text-align: right;\n",
       "    }\n",
       "</style>\n",
       "<table border=\"1\" class=\"dataframe\">\n",
       "  <thead>\n",
       "    <tr style=\"text-align: right;\">\n",
       "      <th></th>\n",
       "      <th>MSISDN/Number</th>\n",
       "      <th>SessionDuration</th>\n",
       "      <th>SessionFrequency</th>\n",
       "      <th>TotalTraffic</th>\n",
       "      <th>CustomerID</th>\n",
       "      <th>AvgTCP</th>\n",
       "      <th>AvgRTT</th>\n",
       "      <th>AvgThroughput</th>\n",
       "      <th>cluster</th>\n",
       "      <th>EngagementScore</th>\n",
       "      <th>ExperienceScore</th>\n",
       "    </tr>\n",
       "  </thead>\n",
       "  <tbody>\n",
       "    <tr>\n",
       "      <th>0</th>\n",
       "      <td>3.360100e+10</td>\n",
       "      <td>0.275973</td>\n",
       "      <td>0.0</td>\n",
       "      <td>0.508721</td>\n",
       "      <td>3.360100e+10</td>\n",
       "      <td>1.000000</td>\n",
       "      <td>0.310549</td>\n",
       "      <td>0.000489</td>\n",
       "      <td>1</td>\n",
       "      <td>0.608480</td>\n",
       "      <td>1.176596</td>\n",
       "    </tr>\n",
       "    <tr>\n",
       "      <th>1</th>\n",
       "      <td>3.360100e+10</td>\n",
       "      <td>0.460555</td>\n",
       "      <td>0.0</td>\n",
       "      <td>0.017328</td>\n",
       "      <td>3.360100e+10</td>\n",
       "      <td>1.000000</td>\n",
       "      <td>0.009225</td>\n",
       "      <td>0.000864</td>\n",
       "      <td>2</td>\n",
       "      <td>0.802447</td>\n",
       "      <td>0.989213</td>\n",
       "    </tr>\n",
       "    <tr>\n",
       "      <th>2</th>\n",
       "      <td>3.360100e+10</td>\n",
       "      <td>0.328189</td>\n",
       "      <td>0.0</td>\n",
       "      <td>0.316254</td>\n",
       "      <td>3.360100e+10</td>\n",
       "      <td>1.000000</td>\n",
       "      <td>0.899082</td>\n",
       "      <td>0.000832</td>\n",
       "      <td>2</td>\n",
       "      <td>0.645243</td>\n",
       "      <td>1.088511</td>\n",
       "    </tr>\n",
       "    <tr>\n",
       "      <th>3</th>\n",
       "      <td>3.360101e+10</td>\n",
       "      <td>0.084717</td>\n",
       "      <td>0.0</td>\n",
       "      <td>0.198043</td>\n",
       "      <td>3.360101e+10</td>\n",
       "      <td>1.000000</td>\n",
       "      <td>0.498165</td>\n",
       "      <td>0.003294</td>\n",
       "      <td>1</td>\n",
       "      <td>0.781218</td>\n",
       "      <td>1.228710</td>\n",
       "    </tr>\n",
       "    <tr>\n",
       "      <th>4</th>\n",
       "      <td>3.360101e+10</td>\n",
       "      <td>0.048167</td>\n",
       "      <td>0.5</td>\n",
       "      <td>0.902690</td>\n",
       "      <td>3.360101e+10</td>\n",
       "      <td>0.713102</td>\n",
       "      <td>0.353618</td>\n",
       "      <td>0.462709</td>\n",
       "      <td>0</td>\n",
       "      <td>0.527073</td>\n",
       "      <td>1.283376</td>\n",
       "    </tr>\n",
       "  </tbody>\n",
       "</table>\n",
       "</div>"
      ],
      "text/plain": [
       "   MSISDN/Number  SessionDuration  SessionFrequency  TotalTraffic  \\\n",
       "0   3.360100e+10         0.275973               0.0      0.508721   \n",
       "1   3.360100e+10         0.460555               0.0      0.017328   \n",
       "2   3.360100e+10         0.328189               0.0      0.316254   \n",
       "3   3.360101e+10         0.084717               0.0      0.198043   \n",
       "4   3.360101e+10         0.048167               0.5      0.902690   \n",
       "\n",
       "     CustomerID    AvgTCP    AvgRTT  AvgThroughput  cluster  EngagementScore  \\\n",
       "0  3.360100e+10  1.000000  0.310549       0.000489        1         0.608480   \n",
       "1  3.360100e+10  1.000000  0.009225       0.000864        2         0.802447   \n",
       "2  3.360100e+10  1.000000  0.899082       0.000832        2         0.645243   \n",
       "3  3.360101e+10  1.000000  0.498165       0.003294        1         0.781218   \n",
       "4  3.360101e+10  0.713102  0.353618       0.462709        0         0.527073   \n",
       "\n",
       "   ExperienceScore  \n",
       "0         1.176596  \n",
       "1         0.989213  \n",
       "2         1.088511  \n",
       "3         1.228710  \n",
       "4         1.283376  "
      ]
     },
     "execution_count": 13,
     "metadata": {},
     "output_type": "execute_result"
    }
   ],
   "source": [
    "kmeans = KMeans(n_clusters=k, random_state=42, n_init=10)\n",
    "cluster_labels = kmeans.fit_predict(X_exp)\n",
    "\n",
    "worst_experience_cluster = pd.Series(cluster_labels).value_counts().idxmin()\n",
    "worst_experience_cluster_cluster_center = kmeans.cluster_centers_[worst_experience_cluster]\n",
    "\n",
    "distances = euclidean_distances(X_eng, [worst_experience_cluster_cluster_center]).flatten()\n",
    "merged_df['ExperienceScore'] =  distances\n",
    "merged_df.head()"
   ]
  },
  {
   "cell_type": "markdown",
   "metadata": {},
   "source": [
    "#### Satisfaction Score"
   ]
  },
  {
   "cell_type": "code",
   "execution_count": 14,
   "metadata": {},
   "outputs": [
    {
     "data": {
      "text/html": [
       "<div>\n",
       "<style scoped>\n",
       "    .dataframe tbody tr th:only-of-type {\n",
       "        vertical-align: middle;\n",
       "    }\n",
       "\n",
       "    .dataframe tbody tr th {\n",
       "        vertical-align: top;\n",
       "    }\n",
       "\n",
       "    .dataframe thead th {\n",
       "        text-align: right;\n",
       "    }\n",
       "</style>\n",
       "<table border=\"1\" class=\"dataframe\">\n",
       "  <thead>\n",
       "    <tr style=\"text-align: right;\">\n",
       "      <th></th>\n",
       "      <th>MSISDN/Number</th>\n",
       "      <th>SessionDuration</th>\n",
       "      <th>SessionFrequency</th>\n",
       "      <th>TotalTraffic</th>\n",
       "      <th>CustomerID</th>\n",
       "      <th>AvgTCP</th>\n",
       "      <th>AvgRTT</th>\n",
       "      <th>AvgThroughput</th>\n",
       "      <th>cluster</th>\n",
       "      <th>EngagementScore</th>\n",
       "      <th>ExperienceScore</th>\n",
       "      <th>SatisfactionScore</th>\n",
       "    </tr>\n",
       "  </thead>\n",
       "  <tbody>\n",
       "    <tr>\n",
       "      <th>0</th>\n",
       "      <td>3.360100e+10</td>\n",
       "      <td>0.275973</td>\n",
       "      <td>0.0</td>\n",
       "      <td>0.508721</td>\n",
       "      <td>3.360100e+10</td>\n",
       "      <td>1.000000</td>\n",
       "      <td>0.310549</td>\n",
       "      <td>0.000489</td>\n",
       "      <td>1</td>\n",
       "      <td>0.608480</td>\n",
       "      <td>1.176596</td>\n",
       "      <td>0.892538</td>\n",
       "    </tr>\n",
       "    <tr>\n",
       "      <th>1</th>\n",
       "      <td>3.360100e+10</td>\n",
       "      <td>0.460555</td>\n",
       "      <td>0.0</td>\n",
       "      <td>0.017328</td>\n",
       "      <td>3.360100e+10</td>\n",
       "      <td>1.000000</td>\n",
       "      <td>0.009225</td>\n",
       "      <td>0.000864</td>\n",
       "      <td>2</td>\n",
       "      <td>0.802447</td>\n",
       "      <td>0.989213</td>\n",
       "      <td>0.895830</td>\n",
       "    </tr>\n",
       "    <tr>\n",
       "      <th>2</th>\n",
       "      <td>3.360100e+10</td>\n",
       "      <td>0.328189</td>\n",
       "      <td>0.0</td>\n",
       "      <td>0.316254</td>\n",
       "      <td>3.360100e+10</td>\n",
       "      <td>1.000000</td>\n",
       "      <td>0.899082</td>\n",
       "      <td>0.000832</td>\n",
       "      <td>2</td>\n",
       "      <td>0.645243</td>\n",
       "      <td>1.088511</td>\n",
       "      <td>0.866877</td>\n",
       "    </tr>\n",
       "    <tr>\n",
       "      <th>3</th>\n",
       "      <td>3.360101e+10</td>\n",
       "      <td>0.084717</td>\n",
       "      <td>0.0</td>\n",
       "      <td>0.198043</td>\n",
       "      <td>3.360101e+10</td>\n",
       "      <td>1.000000</td>\n",
       "      <td>0.498165</td>\n",
       "      <td>0.003294</td>\n",
       "      <td>1</td>\n",
       "      <td>0.781218</td>\n",
       "      <td>1.228710</td>\n",
       "      <td>1.004964</td>\n",
       "    </tr>\n",
       "    <tr>\n",
       "      <th>4</th>\n",
       "      <td>3.360101e+10</td>\n",
       "      <td>0.048167</td>\n",
       "      <td>0.5</td>\n",
       "      <td>0.902690</td>\n",
       "      <td>3.360101e+10</td>\n",
       "      <td>0.713102</td>\n",
       "      <td>0.353618</td>\n",
       "      <td>0.462709</td>\n",
       "      <td>0</td>\n",
       "      <td>0.527073</td>\n",
       "      <td>1.283376</td>\n",
       "      <td>0.905225</td>\n",
       "    </tr>\n",
       "  </tbody>\n",
       "</table>\n",
       "</div>"
      ],
      "text/plain": [
       "   MSISDN/Number  SessionDuration  SessionFrequency  TotalTraffic  \\\n",
       "0   3.360100e+10         0.275973               0.0      0.508721   \n",
       "1   3.360100e+10         0.460555               0.0      0.017328   \n",
       "2   3.360100e+10         0.328189               0.0      0.316254   \n",
       "3   3.360101e+10         0.084717               0.0      0.198043   \n",
       "4   3.360101e+10         0.048167               0.5      0.902690   \n",
       "\n",
       "     CustomerID    AvgTCP    AvgRTT  AvgThroughput  cluster  EngagementScore  \\\n",
       "0  3.360100e+10  1.000000  0.310549       0.000489        1         0.608480   \n",
       "1  3.360100e+10  1.000000  0.009225       0.000864        2         0.802447   \n",
       "2  3.360100e+10  1.000000  0.899082       0.000832        2         0.645243   \n",
       "3  3.360101e+10  1.000000  0.498165       0.003294        1         0.781218   \n",
       "4  3.360101e+10  0.713102  0.353618       0.462709        0         0.527073   \n",
       "\n",
       "   ExperienceScore  SatisfactionScore  \n",
       "0         1.176596           0.892538  \n",
       "1         0.989213           0.895830  \n",
       "2         1.088511           0.866877  \n",
       "3         1.228710           1.004964  \n",
       "4         1.283376           0.905225  "
      ]
     },
     "execution_count": 14,
     "metadata": {},
     "output_type": "execute_result"
    }
   ],
   "source": [
    "merged_df['SatisfactionScore'] = (merged_df['EngagementScore'] + merged_df['ExperienceScore']) / 2\n",
    "merged_df.head()"
   ]
  },
  {
   "cell_type": "markdown",
   "metadata": {},
   "source": [
    "### Top satisfied users"
   ]
  },
  {
   "cell_type": "code",
   "execution_count": 15,
   "metadata": {},
   "outputs": [
    {
     "data": {
      "text/html": [
       "<div>\n",
       "<style scoped>\n",
       "    .dataframe tbody tr th:only-of-type {\n",
       "        vertical-align: middle;\n",
       "    }\n",
       "\n",
       "    .dataframe tbody tr th {\n",
       "        vertical-align: top;\n",
       "    }\n",
       "\n",
       "    .dataframe thead th {\n",
       "        text-align: right;\n",
       "    }\n",
       "</style>\n",
       "<table border=\"1\" class=\"dataframe\">\n",
       "  <thead>\n",
       "    <tr style=\"text-align: right;\">\n",
       "      <th></th>\n",
       "      <th>MSISDN/Number</th>\n",
       "      <th>SatisfactionScore</th>\n",
       "    </tr>\n",
       "  </thead>\n",
       "  <tbody>\n",
       "    <tr>\n",
       "      <th>0</th>\n",
       "      <td>3.361057e+10</td>\n",
       "      <td>1.163502</td>\n",
       "    </tr>\n",
       "    <tr>\n",
       "      <th>1</th>\n",
       "      <td>3.365807e+10</td>\n",
       "      <td>1.158741</td>\n",
       "    </tr>\n",
       "    <tr>\n",
       "      <th>2</th>\n",
       "      <td>3.364049e+10</td>\n",
       "      <td>1.158361</td>\n",
       "    </tr>\n",
       "    <tr>\n",
       "      <th>3</th>\n",
       "      <td>3.366760e+10</td>\n",
       "      <td>1.143146</td>\n",
       "    </tr>\n",
       "    <tr>\n",
       "      <th>4</th>\n",
       "      <td>3.366868e+10</td>\n",
       "      <td>1.137445</td>\n",
       "    </tr>\n",
       "    <tr>\n",
       "      <th>5</th>\n",
       "      <td>3.365946e+10</td>\n",
       "      <td>1.135699</td>\n",
       "    </tr>\n",
       "    <tr>\n",
       "      <th>6</th>\n",
       "      <td>3.368337e+10</td>\n",
       "      <td>1.131406</td>\n",
       "    </tr>\n",
       "    <tr>\n",
       "      <th>7</th>\n",
       "      <td>3.366570e+10</td>\n",
       "      <td>1.119160</td>\n",
       "    </tr>\n",
       "    <tr>\n",
       "      <th>8</th>\n",
       "      <td>3.364502e+10</td>\n",
       "      <td>1.118333</td>\n",
       "    </tr>\n",
       "    <tr>\n",
       "      <th>9</th>\n",
       "      <td>3.366054e+10</td>\n",
       "      <td>1.107682</td>\n",
       "    </tr>\n",
       "  </tbody>\n",
       "</table>\n",
       "</div>"
      ],
      "text/plain": [
       "   MSISDN/Number  SatisfactionScore\n",
       "0   3.361057e+10           1.163502\n",
       "1   3.365807e+10           1.158741\n",
       "2   3.364049e+10           1.158361\n",
       "3   3.366760e+10           1.143146\n",
       "4   3.366868e+10           1.137445\n",
       "5   3.365946e+10           1.135699\n",
       "6   3.368337e+10           1.131406\n",
       "7   3.366570e+10           1.119160\n",
       "8   3.364502e+10           1.118333\n",
       "9   3.366054e+10           1.107682"
      ]
     },
     "execution_count": 15,
     "metadata": {},
     "output_type": "execute_result"
    }
   ],
   "source": [
    "query = ''' \n",
    "    SELECT \n",
    "        \"MSISDN/Number\",\n",
    "        SatisfactionScore\n",
    "    FROM merged_df\n",
    "    ORDER BY SatisfactionScore DESC\n",
    "    LIMIT 10\n",
    "'''\n",
    "\n",
    "pysqldf(query)"
   ]
  },
  {
   "cell_type": "code",
   "execution_count": 16,
   "metadata": {},
   "outputs": [
    {
     "data": {
      "text/plain": [
       "0.8867320452058398"
      ]
     },
     "execution_count": 16,
     "metadata": {},
     "output_type": "execute_result"
    }
   ],
   "source": [
    "merged_df[\"SatisfactionScore\"].median()"
   ]
  },
  {
   "cell_type": "markdown",
   "metadata": {},
   "source": [
    "### Linear Regression"
   ]
  },
  {
   "cell_type": "code",
   "execution_count": 17,
   "metadata": {},
   "outputs": [],
   "source": [
    "features = engagement_columns + experience_columns\n",
    "X = merged_df[features]\n",
    "y = merged_df.SatisfactionScore\n",
    "\n",
    "X_train, X_test, y_train, y_test = train_test_split(X, y, test_size=0.2, random_state=42)\n",
    "model = LinearRegression() \n",
    "model.fit(X_train, y_train)\n",
    "\n",
    "y_pred  = model.predict(X_test)\n"
   ]
  },
  {
   "cell_type": "markdown",
   "metadata": {},
   "source": [
    "### KMeans clustering"
   ]
  },
  {
   "cell_type": "code",
   "execution_count": 18,
   "metadata": {},
   "outputs": [],
   "source": [
    "selected_columns = [\"EngagementScore\", \"SatisfactionScore\"]\n",
    "X = merged_df[selected_columns]\n",
    "k = 2\n",
    "\n",
    "kmeans = KMeans(n_clusters=k, random_state=0, n_init=15) \n",
    "kmeans.fit(X)\n",
    "\n",
    "merged_df['cluster'] = kmeans.labels_"
   ]
  },
  {
   "cell_type": "markdown",
   "metadata": {},
   "source": [
    "#### Clusters plot"
   ]
  },
  {
   "cell_type": "code",
   "execution_count": 19,
   "metadata": {},
   "outputs": [
    {
     "data": {
      "image/png": "[encoded data removed]",
      "text/plain": [
       "<Figure size 640x480 with 1 Axes>"
      ]
     },
     "metadata": {},
     "output_type": "display_data"
    }
   ],
   "source": [
    "cluster_colors = {0: 'red', 1: 'blue'}\n",
    "for cluster_label, color in cluster_colors.items():\n",
    "    cluster_df = merged_df[merged_df[\"cluster\"] == cluster_label]\n",
    "    plt.scatter(cluster_df[\"EngagementScore\"], cluster_df[\"ExperienceScore\"], c=color)\n",
    "\n",
    "\n",
    "plt.xlabel(\"EngagementScore\")\n",
    "plt.ylabel(\"ExperienceScore\")\n",
    "plt.title(\"'2D Scatter Plot'of EngagementScore vs ExperienceScore\")\n",
    "\n",
    "plt.show()"
   ]
  },
  {
   "cell_type": "markdown",
   "metadata": {},
   "source": [
    "### Average Satisfaction per cluster\n"
   ]
  },
  {
   "cell_type": "code",
   "execution_count": 20,
   "metadata": {},
   "outputs": [
    {
     "data": {
      "text/html": [
       "<div>\n",
       "<style scoped>\n",
       "    .dataframe tbody tr th:only-of-type {\n",
       "        vertical-align: middle;\n",
       "    }\n",
       "\n",
       "    .dataframe tbody tr th {\n",
       "        vertical-align: top;\n",
       "    }\n",
       "\n",
       "    .dataframe thead th {\n",
       "        text-align: right;\n",
       "    }\n",
       "</style>\n",
       "<table border=\"1\" class=\"dataframe\">\n",
       "  <thead>\n",
       "    <tr style=\"text-align: right;\">\n",
       "      <th></th>\n",
       "      <th>cluster</th>\n",
       "      <th>Average Satisfaction</th>\n",
       "    </tr>\n",
       "  </thead>\n",
       "  <tbody>\n",
       "    <tr>\n",
       "      <th>0</th>\n",
       "      <td>0</td>\n",
       "      <td>0.574746</td>\n",
       "    </tr>\n",
       "    <tr>\n",
       "      <th>1</th>\n",
       "      <td>1</td>\n",
       "      <td>0.922030</td>\n",
       "    </tr>\n",
       "  </tbody>\n",
       "</table>\n",
       "</div>"
      ],
      "text/plain": [
       "   cluster  Average Satisfaction\n",
       "0        0              0.574746\n",
       "1        1              0.922030"
      ]
     },
     "execution_count": 20,
     "metadata": {},
     "output_type": "execute_result"
    }
   ],
   "source": [
    "query = ''' \n",
    "    SELECT \n",
    "        cluster,\n",
    "        AVG(\"SatisfactionScore\") As \"Average Satisfaction\"\n",
    "    FROM merged_df \n",
    "    GROUP BY cluster;\n",
    "'''\n",
    "avg_satsifaction = pysqldf(query)\n",
    "avg_satsifaction"
   ]
  },
  {
   "cell_type": "markdown",
   "metadata": {},
   "source": [
    "### Average experience Score per cluster"
   ]
  },
  {
   "cell_type": "code",
   "execution_count": 21,
   "metadata": {},
   "outputs": [
    {
     "data": {
      "text/html": [
       "<div>\n",
       "<style scoped>\n",
       "    .dataframe tbody tr th:only-of-type {\n",
       "        vertical-align: middle;\n",
       "    }\n",
       "\n",
       "    .dataframe tbody tr th {\n",
       "        vertical-align: top;\n",
       "    }\n",
       "\n",
       "    .dataframe thead th {\n",
       "        text-align: right;\n",
       "    }\n",
       "</style>\n",
       "<table border=\"1\" class=\"dataframe\">\n",
       "  <thead>\n",
       "    <tr style=\"text-align: right;\">\n",
       "      <th></th>\n",
       "      <th>cluster</th>\n",
       "      <th>Average Experience</th>\n",
       "    </tr>\n",
       "  </thead>\n",
       "  <tbody>\n",
       "    <tr>\n",
       "      <th>0</th>\n",
       "      <td>0</td>\n",
       "      <td>0.816223</td>\n",
       "    </tr>\n",
       "    <tr>\n",
       "      <th>1</th>\n",
       "      <td>1</td>\n",
       "      <td>1.137003</td>\n",
       "    </tr>\n",
       "  </tbody>\n",
       "</table>\n",
       "</div>"
      ],
      "text/plain": [
       "   cluster  Average Experience\n",
       "0        0            0.816223\n",
       "1        1            1.137003"
      ]
     },
     "execution_count": 21,
     "metadata": {},
     "output_type": "execute_result"
    }
   ],
   "source": [
    "query = ''' \n",
    "    SELECT \n",
    "        cluster,\n",
    "        AVG(\"ExperienceScore\") AS \"Average Experience\" \n",
    "    FROM merged_df \n",
    "    GROUP BY cluster \n",
    "'''\n",
    "\n",
    "avg_experience = pysqldf(query)\n",
    "avg_experience"
   ]
  },
  {
   "cell_type": "code",
   "execution_count": 22,
   "metadata": {},
   "outputs": [
    {
     "name": "stderr",
     "output_type": "stream",
     "text": [
      "INFO:scripts.write_to_db:Data written successfully\n"
     ]
    }
   ],
   "source": [
    "df = pd.DataFrame({\n",
    "    \"UserID\": merged_df[\"CustomerID\"],\n",
    "    \"SatisfactionScore\": merged_df[\"SatisfactionScore\"],\n",
    "    \"ExperienceScore\": merged_df[\"ExperienceScore\"],\n",
    "    \"EngagementScore\": merged_df[\"EngagementScore\"]\n",
    "})\n",
    "\n",
    "wd.write_data(df, \"satisfaction_score\")"
   ]
  }
 ],
 "metadata": {
  "kernelspec": {
   "display_name": "tenx",
   "language": "python",
   "name": "python3"
  },
  "language_info": {
   "codemirror_mode": {
    "name": "ipython",
    "version": 3
   },
   "file_extension": ".py",
   "mimetype": "text/x-python",
   "name": "python",
   "nbconvert_exporter": "python",
   "pygments_lexer": "ipython3",
   "version": "3.10.13"
  }
 },
 "nbformat": 4,
 "nbformat_minor": 2
}
